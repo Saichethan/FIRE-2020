{
 "cells": [
  {
   "cell_type": "code",
   "execution_count": 1,
   "metadata": {},
   "outputs": [
    {
     "name": "stderr",
     "output_type": "stream",
     "text": [
      "Using TensorFlow backend.\n"
     ]
    }
   ],
   "source": [
    "import os\n",
    "import re\n",
    "import sys\n",
    "import numpy as np\n",
    "import pandas as pd\n",
    "import tensorflow as tf\n",
    "import matplotlib.pyplot as plt\n",
    "%matplotlib inline\n",
    "#import keras\n",
    "from tensorflow import keras\n",
    "from keras.preprocessing.text import Tokenizer\n",
    "from keras.preprocessing.sequence import pad_sequences\n",
    "from keras.layers import RNN, GRU, LSTM, Dense, Input, Embedding, Dropout, Activation, concatenate\n",
    "from keras.layers import Bidirectional, GlobalAveragePooling1D, GlobalMaxPooling1D\n",
    "from keras.models import Model\n",
    "from tensorflow.keras.callbacks import EarlyStopping, ModelCheckpoint\n",
    "#from keras.callbacks import EarlyStopping, ModelCheckpoint\n",
    "from keras import initializers, regularizers, constraints, optimizers, layers\n",
    "import tensorflow as tf\n",
    "#from tensorflow import keras\n",
    "from tensorflow.keras import layers"
   ]
  },
  {
   "cell_type": "code",
   "execution_count": 2,
   "metadata": {},
   "outputs": [],
   "source": [
    "class MultiHeadSelfAttention(layers.Layer):\n",
    "    def __init__(self, embed_dim, num_heads=8):\n",
    "        super(MultiHeadSelfAttention, self).__init__()\n",
    "        self.embed_dim = embed_dim\n",
    "        self.num_heads = num_heads\n",
    "        if embed_dim % num_heads != 0:\n",
    "            raise ValueError(\n",
    "                f\"embedding dimension = {embed_dim} should be divisible by number of heads = {num_heads}\"\n",
    "            )\n",
    "        self.projection_dim = embed_dim // num_heads\n",
    "        self.query_dense = layers.Dense(embed_dim)\n",
    "        self.key_dense = layers.Dense(embed_dim)\n",
    "        self.value_dense = layers.Dense(embed_dim)\n",
    "        self.combine_heads = layers.Dense(embed_dim)\n",
    "\n",
    "    def attention(self, query, key, value):\n",
    "        score = tf.matmul(query, key, transpose_b=True)\n",
    "        dim_key = tf.cast(tf.shape(key)[-1], tf.float32)\n",
    "        scaled_score = score / tf.math.sqrt(dim_key)\n",
    "        weights = tf.nn.softmax(scaled_score, axis=-1)\n",
    "        output = tf.matmul(weights, value)\n",
    "        return output, weights\n",
    "\n",
    "    def separate_heads(self, x, batch_size):\n",
    "        x = tf.reshape(x, (batch_size, -1, self.num_heads, self.projection_dim))\n",
    "        return tf.transpose(x, perm=[0, 2, 1, 3])\n",
    "\n",
    "    def call(self, inputs):\n",
    "        # x.shape = [batch_size, seq_len, embedding_dim]\n",
    "        batch_size = tf.shape(inputs)[0]\n",
    "        query = self.query_dense(inputs)  # (batch_size, seq_len, embed_dim)\n",
    "        key = self.key_dense(inputs)  # (batch_size, seq_len, embed_dim)\n",
    "        value = self.value_dense(inputs)  # (batch_size, seq_len, embed_dim)\n",
    "        query = self.separate_heads(\n",
    "            query, batch_size\n",
    "        )  # (batch_size, num_heads, seq_len, projection_dim)\n",
    "        key = self.separate_heads(\n",
    "            key, batch_size\n",
    "        )  # (batch_size, num_heads, seq_len, projection_dim)\n",
    "        value = self.separate_heads(\n",
    "            value, batch_size\n",
    "        )  # (batch_size, num_heads, seq_len, projection_dim)\n",
    "        attention, weights = self.attention(query, key, value)\n",
    "        attention = tf.transpose(\n",
    "            attention, perm=[0, 2, 1, 3]\n",
    "        )  # (batch_size, seq_len, num_heads, projection_dim)\n",
    "        concat_attention = tf.reshape(\n",
    "            attention, (batch_size, -1, self.embed_dim)\n",
    "        )  # (batch_size, seq_len, embed_dim)\n",
    "        output = self.combine_heads(\n",
    "            concat_attention\n",
    "        )  # (batch_size, seq_len, embed_dim)\n",
    "        return output\n"
   ]
  },
  {
   "cell_type": "code",
   "execution_count": 3,
   "metadata": {},
   "outputs": [],
   "source": [
    "class TransformerBlock(layers.Layer):\n",
    "    def __init__(self, embed_dim, num_heads, ff_dim, rate=0.1):\n",
    "        super(TransformerBlock, self).__init__()\n",
    "        self.att = MultiHeadSelfAttention(embed_dim, num_heads)\n",
    "        self.ffn = keras.Sequential(\n",
    "            [layers.Dense(ff_dim, activation=\"relu\"), layers.Dense(embed_dim),]\n",
    "        )\n",
    "        self.layernorm1 = layers.LayerNormalization(epsilon=1e-6)\n",
    "        self.layernorm2 = layers.LayerNormalization(epsilon=1e-6)\n",
    "        self.dropout1 = layers.Dropout(rate)\n",
    "        self.dropout2 = layers.Dropout(rate)\n",
    "        \n",
    " \n",
    "    def call(self, inputs):\n",
    "        attn_output = self.att(inputs)\n",
    "        attn_output = self.dropout1(attn_output)\n",
    "        out1 = self.layernorm1(inputs + attn_output)\n",
    "        ffn_output = self.ffn(out1)\n",
    "        ffn_output = self.dropout2(ffn_output)\n",
    "        return self.layernorm2(out1 + ffn_output)\n"
   ]
  },
  {
   "cell_type": "code",
   "execution_count": 4,
   "metadata": {},
   "outputs": [],
   "source": [
    "class TokenAndPositionEmbedding(layers.Layer):\n",
    "    def __init__(self, maxlen, vocab_size, embed_dim):\n",
    "        super(TokenAndPositionEmbedding, self).__init__()\n",
    "        self.token_emb = layers.Embedding(input_dim=vocab_size, output_dim=embed_dim)\n",
    "        self.pos_emb = layers.Embedding(input_dim=maxlen, output_dim=embed_dim)\n",
    "\n",
    "    def call(self, x):\n",
    "        maxlen = tf.shape(x)[-1]\n",
    "        positions = tf.range(start=0, limit=maxlen, delta=1)\n",
    "        positions = self.pos_emb(positions)\n",
    "        x = self.token_emb(x)\n",
    "        return x + positions\n",
    "    \"\"\"\n",
    "    def get_config(self):\n",
    "\n",
    "        config = super().get_config().copy()\n",
    "        config.update({\n",
    "            'vocab_size': self.vocab_size,\n",
    "            'num_layers': self.num_layers,\n",
    "            'units': self.units,\n",
    "            'd_model': self.d_model,\n",
    "            'num_heads': self.num_heads,\n",
    "            'dropout': self.dropout,\n",
    "        })\n",
    "        return config\n",
    "    \"\"\""
   ]
  },
  {
   "cell_type": "code",
   "execution_count": 5,
   "metadata": {},
   "outputs": [],
   "source": [
    "train_data = pd.read_csv('clean_data/train.csv')\n",
    "test_data = pd.read_csv('clean_data/val.csv')\n",
    "fire_data = pd.read_csv('clean_data/test.csv')"
   ]
  },
  {
   "cell_type": "code",
   "execution_count": 6,
   "metadata": {},
   "outputs": [
    {
     "data": {
      "text/html": [
       "<div>\n",
       "<style scoped>\n",
       "    .dataframe tbody tr th:only-of-type {\n",
       "        vertical-align: middle;\n",
       "    }\n",
       "\n",
       "    .dataframe tbody tr th {\n",
       "        vertical-align: top;\n",
       "    }\n",
       "\n",
       "    .dataframe thead th {\n",
       "        text-align: right;\n",
       "    }\n",
       "</style>\n",
       "<table border=\"1\" class=\"dataframe\">\n",
       "  <thead>\n",
       "    <tr style=\"text-align: right;\">\n",
       "      <th></th>\n",
       "      <th>Unnamed: 0</th>\n",
       "      <th>label</th>\n",
       "    </tr>\n",
       "  </thead>\n",
       "  <tbody>\n",
       "    <tr>\n",
       "      <td>count</td>\n",
       "      <td>638.000000</td>\n",
       "      <td>638.000000</td>\n",
       "    </tr>\n",
       "    <tr>\n",
       "      <td>mean</td>\n",
       "      <td>318.500000</td>\n",
       "      <td>0.451411</td>\n",
       "    </tr>\n",
       "    <tr>\n",
       "      <td>std</td>\n",
       "      <td>184.319017</td>\n",
       "      <td>0.498024</td>\n",
       "    </tr>\n",
       "    <tr>\n",
       "      <td>min</td>\n",
       "      <td>0.000000</td>\n",
       "      <td>0.000000</td>\n",
       "    </tr>\n",
       "    <tr>\n",
       "      <td>25%</td>\n",
       "      <td>159.250000</td>\n",
       "      <td>0.000000</td>\n",
       "    </tr>\n",
       "    <tr>\n",
       "      <td>50%</td>\n",
       "      <td>318.500000</td>\n",
       "      <td>0.000000</td>\n",
       "    </tr>\n",
       "    <tr>\n",
       "      <td>75%</td>\n",
       "      <td>477.750000</td>\n",
       "      <td>1.000000</td>\n",
       "    </tr>\n",
       "    <tr>\n",
       "      <td>max</td>\n",
       "      <td>637.000000</td>\n",
       "      <td>1.000000</td>\n",
       "    </tr>\n",
       "  </tbody>\n",
       "</table>\n",
       "</div>"
      ],
      "text/plain": [
       "       Unnamed: 0       label\n",
       "count  638.000000  638.000000\n",
       "mean   318.500000    0.451411\n",
       "std    184.319017    0.498024\n",
       "min      0.000000    0.000000\n",
       "25%    159.250000    0.000000\n",
       "50%    318.500000    0.000000\n",
       "75%    477.750000    1.000000\n",
       "max    637.000000    1.000000"
      ]
     },
     "execution_count": 6,
     "metadata": {},
     "output_type": "execute_result"
    }
   ],
   "source": [
    "train_data.describe()"
   ]
  },
  {
   "cell_type": "code",
   "execution_count": 7,
   "metadata": {},
   "outputs": [
    {
     "data": {
      "text/html": [
       "<div>\n",
       "<style scoped>\n",
       "    .dataframe tbody tr th:only-of-type {\n",
       "        vertical-align: middle;\n",
       "    }\n",
       "\n",
       "    .dataframe tbody tr th {\n",
       "        vertical-align: top;\n",
       "    }\n",
       "\n",
       "    .dataframe thead th {\n",
       "        text-align: right;\n",
       "    }\n",
       "</style>\n",
       "<table border=\"1\" class=\"dataframe\">\n",
       "  <thead>\n",
       "    <tr style=\"text-align: right;\">\n",
       "      <th></th>\n",
       "      <th>Unnamed: 0</th>\n",
       "      <th>label</th>\n",
       "    </tr>\n",
       "  </thead>\n",
       "  <tbody>\n",
       "    <tr>\n",
       "      <td>count</td>\n",
       "      <td>262.000000</td>\n",
       "      <td>262.000000</td>\n",
       "    </tr>\n",
       "    <tr>\n",
       "      <td>mean</td>\n",
       "      <td>130.500000</td>\n",
       "      <td>0.427481</td>\n",
       "    </tr>\n",
       "    <tr>\n",
       "      <td>std</td>\n",
       "      <td>75.777085</td>\n",
       "      <td>0.495660</td>\n",
       "    </tr>\n",
       "    <tr>\n",
       "      <td>min</td>\n",
       "      <td>0.000000</td>\n",
       "      <td>0.000000</td>\n",
       "    </tr>\n",
       "    <tr>\n",
       "      <td>25%</td>\n",
       "      <td>65.250000</td>\n",
       "      <td>0.000000</td>\n",
       "    </tr>\n",
       "    <tr>\n",
       "      <td>50%</td>\n",
       "      <td>130.500000</td>\n",
       "      <td>0.000000</td>\n",
       "    </tr>\n",
       "    <tr>\n",
       "      <td>75%</td>\n",
       "      <td>195.750000</td>\n",
       "      <td>1.000000</td>\n",
       "    </tr>\n",
       "    <tr>\n",
       "      <td>max</td>\n",
       "      <td>261.000000</td>\n",
       "      <td>1.000000</td>\n",
       "    </tr>\n",
       "  </tbody>\n",
       "</table>\n",
       "</div>"
      ],
      "text/plain": [
       "       Unnamed: 0       label\n",
       "count  262.000000  262.000000\n",
       "mean   130.500000    0.427481\n",
       "std     75.777085    0.495660\n",
       "min      0.000000    0.000000\n",
       "25%     65.250000    0.000000\n",
       "50%    130.500000    0.000000\n",
       "75%    195.750000    1.000000\n",
       "max    261.000000    1.000000"
      ]
     },
     "execution_count": 7,
     "metadata": {},
     "output_type": "execute_result"
    }
   ],
   "source": [
    "test_data.describe()"
   ]
  },
  {
   "cell_type": "code",
   "execution_count": 8,
   "metadata": {},
   "outputs": [
    {
     "data": {
      "text/html": [
       "<div>\n",
       "<style scoped>\n",
       "    .dataframe tbody tr th:only-of-type {\n",
       "        vertical-align: middle;\n",
       "    }\n",
       "\n",
       "    .dataframe tbody tr th {\n",
       "        vertical-align: top;\n",
       "    }\n",
       "\n",
       "    .dataframe thead th {\n",
       "        text-align: right;\n",
       "    }\n",
       "</style>\n",
       "<table border=\"1\" class=\"dataframe\">\n",
       "  <thead>\n",
       "    <tr style=\"text-align: right;\">\n",
       "      <th></th>\n",
       "      <th>Unnamed: 0</th>\n",
       "      <th>news_text</th>\n",
       "      <th>label</th>\n",
       "    </tr>\n",
       "  </thead>\n",
       "  <tbody>\n",
       "    <tr>\n",
       "      <td>0</td>\n",
       "      <td>410</td>\n",
       "      <td>﻿آئن سٹائن کے اپنے ہاتھ کا وہ خط متوقع کے عين...</td>\n",
       "      <td>1</td>\n",
       "    </tr>\n",
       "    <tr>\n",
       "      <td>1</td>\n",
       "      <td>577</td>\n",
       "      <td>نئی دہلی 15 دسمبر(ایجنسی) بین الاقوامی سطح پ...</td>\n",
       "      <td>1</td>\n",
       "    </tr>\n",
       "    <tr>\n",
       "      <td>2</td>\n",
       "      <td>221</td>\n",
       "      <td>نئی دہلی 5 دسمبر(ایجنسی) دہلی کے تاج ہوٹل میں...</td>\n",
       "      <td>0</td>\n",
       "    </tr>\n",
       "    <tr>\n",
       "      <td>3</td>\n",
       "      <td>200</td>\n",
       "      <td>میلبرن (نیوز ڈیسک) کہتے ہیں کہ وزن ایک بار ب...</td>\n",
       "      <td>0</td>\n",
       "    </tr>\n",
       "    <tr>\n",
       "      <td>4</td>\n",
       "      <td>486</td>\n",
       "      <td>نیوزی لینڈ 10 مئی (ایجنسی) امریکہ میں ماہرین ...</td>\n",
       "      <td>1</td>\n",
       "    </tr>\n",
       "  </tbody>\n",
       "</table>\n",
       "</div>"
      ],
      "text/plain": [
       "   Unnamed: 0                                          news_text  label\n",
       "0         410   ﻿آئن سٹائن کے اپنے ہاتھ کا وہ خط متوقع کے عين...      1\n",
       "1         577    نئی دہلی 15 دسمبر(ایجنسی) بین الاقوامی سطح پ...      1\n",
       "2         221   نئی دہلی 5 دسمبر(ایجنسی) دہلی کے تاج ہوٹل میں...      0\n",
       "3         200    میلبرن (نیوز ڈیسک) کہتے ہیں کہ وزن ایک بار ب...      0\n",
       "4         486   نیوزی لینڈ 10 مئی (ایجنسی) امریکہ میں ماہرین ...      1"
      ]
     },
     "execution_count": 8,
     "metadata": {},
     "output_type": "execute_result"
    }
   ],
   "source": [
    "train_data.head()"
   ]
  },
  {
   "cell_type": "code",
   "execution_count": 9,
   "metadata": {},
   "outputs": [
    {
     "data": {
      "text/html": [
       "<div>\n",
       "<style scoped>\n",
       "    .dataframe tbody tr th:only-of-type {\n",
       "        vertical-align: middle;\n",
       "    }\n",
       "\n",
       "    .dataframe tbody tr th {\n",
       "        vertical-align: top;\n",
       "    }\n",
       "\n",
       "    .dataframe thead th {\n",
       "        text-align: right;\n",
       "    }\n",
       "</style>\n",
       "<table border=\"1\" class=\"dataframe\">\n",
       "  <thead>\n",
       "    <tr style=\"text-align: right;\">\n",
       "      <th></th>\n",
       "      <th>Unnamed: 0</th>\n",
       "      <th>news_text</th>\n",
       "      <th>label</th>\n",
       "    </tr>\n",
       "  </thead>\n",
       "  <tbody>\n",
       "    <tr>\n",
       "      <td>0</td>\n",
       "      <td>189</td>\n",
       "      <td>﻿لڑکپن بے شک زندگی کا سب سے مختلف حصہ ہے کیون...</td>\n",
       "      <td>1</td>\n",
       "    </tr>\n",
       "    <tr>\n",
       "      <td>1</td>\n",
       "      <td>256</td>\n",
       "      <td>﻿ناسا کا ’بی ایف آر‘ راکٹ اور ہوائی جہاز انسا...</td>\n",
       "      <td>1</td>\n",
       "    </tr>\n",
       "    <tr>\n",
       "      <td>2</td>\n",
       "      <td>246</td>\n",
       "      <td>بیجنگ چینی حکومت نے امریکا سے تیل کی خریدار...</td>\n",
       "      <td>1</td>\n",
       "    </tr>\n",
       "    <tr>\n",
       "      <td>3</td>\n",
       "      <td>181</td>\n",
       "      <td>﻿کمان سے نکلا تنکا یا زبان سے نکلا جملہ کی وا...</td>\n",
       "      <td>1</td>\n",
       "    </tr>\n",
       "    <tr>\n",
       "      <td>4</td>\n",
       "      <td>201</td>\n",
       "      <td>لندن سائنسدانوں کا خیال ہے کہ صحتمند انسانوں...</td>\n",
       "      <td>1</td>\n",
       "    </tr>\n",
       "  </tbody>\n",
       "</table>\n",
       "</div>"
      ],
      "text/plain": [
       "   Unnamed: 0                                          news_text  label\n",
       "0         189   ﻿لڑکپن بے شک زندگی کا سب سے مختلف حصہ ہے کیون...      1\n",
       "1         256   ﻿ناسا کا ’بی ایف آر‘ راکٹ اور ہوائی جہاز انسا...      1\n",
       "2         246     بیجنگ چینی حکومت نے امریکا سے تیل کی خریدار...      1\n",
       "3         181   ﻿کمان سے نکلا تنکا یا زبان سے نکلا جملہ کی وا...      1\n",
       "4         201    لندن سائنسدانوں کا خیال ہے کہ صحتمند انسانوں...      1"
      ]
     },
     "execution_count": 9,
     "metadata": {},
     "output_type": "execute_result"
    }
   ],
   "source": [
    "test_data.head()"
   ]
  },
  {
   "cell_type": "code",
   "execution_count": 10,
   "metadata": {},
   "outputs": [
    {
     "data": {
      "text/plain": [
       "Unnamed: 0    False\n",
       "news_text     False\n",
       "label         False\n",
       "dtype: bool"
      ]
     },
     "execution_count": 10,
     "metadata": {},
     "output_type": "execute_result"
    }
   ],
   "source": [
    "train_data.isnull().any()"
   ]
  },
  {
   "cell_type": "code",
   "execution_count": 11,
   "metadata": {},
   "outputs": [
    {
     "data": {
      "text/plain": [
       "Unnamed: 0    False\n",
       "news_text     False\n",
       "label         False\n",
       "dtype: bool"
      ]
     },
     "execution_count": 11,
     "metadata": {},
     "output_type": "execute_result"
    }
   ],
   "source": [
    "test_data.isnull().any()"
   ]
  },
  {
   "cell_type": "code",
   "execution_count": 12,
   "metadata": {},
   "outputs": [],
   "source": [
    "# Furhter actions on any columns is not required, because no columns has any missing data."
   ]
  },
  {
   "cell_type": "code",
   "execution_count": 13,
   "metadata": {},
   "outputs": [],
   "source": [
    "\n",
    "y = train_data[\"label\"].values\n",
    "\n",
    "y_val = test_data[\"label\"].values"
   ]
  },
  {
   "cell_type": "code",
   "execution_count": 14,
   "metadata": {},
   "outputs": [],
   "source": [
    "train_sentences = train_data[\"news_text\"].fillna(\"fillna\").str.lower()\n",
    "test_sentences = test_data[\"news_text\"].fillna(\"fillna\").str.lower()\n",
    "fire_sentences = fire_data[\"news_text\"].fillna(\"fillna\").str.lower()"
   ]
  },
  {
   "cell_type": "code",
   "execution_count": 15,
   "metadata": {},
   "outputs": [],
   "source": [
    "max_features = 10000\n",
    "max_len = 250\n",
    "embed_size = 300"
   ]
  },
  {
   "cell_type": "code",
   "execution_count": 16,
   "metadata": {},
   "outputs": [],
   "source": [
    "tokenizer = Tokenizer(max_features)\n",
    "tokenizer.fit_on_texts(list(train_sentences))"
   ]
  },
  {
   "cell_type": "code",
   "execution_count": 17,
   "metadata": {},
   "outputs": [],
   "source": [
    "tokenized_train_sentences = tokenizer.texts_to_sequences(train_sentences)\n",
    "tokenized_test_sentences = tokenizer.texts_to_sequences(test_sentences)\n",
    "tokenized_fire_sentences = tokenizer.texts_to_sequences(fire_sentences)"
   ]
  },
  {
   "cell_type": "code",
   "execution_count": 18,
   "metadata": {},
   "outputs": [
    {
     "data": {
      "text/plain": [
       "264"
      ]
     },
     "execution_count": 18,
     "metadata": {},
     "output_type": "execute_result"
    }
   ],
   "source": [
    "len(train_sentences[94].split(\" \"))"
   ]
  },
  {
   "cell_type": "code",
   "execution_count": 19,
   "metadata": {},
   "outputs": [],
   "source": [
    "#tokenized_train_sentences[1]"
   ]
  },
  {
   "cell_type": "code",
   "execution_count": 20,
   "metadata": {},
   "outputs": [
    {
     "data": {
      "text/plain": [
       "' لندن (ویب ڈیسک) آج کل کے دور میں ہر کوئی بالخصوص خواتین خوبصورت اور رنگ گورا کرنے سمیت کم عمر نظر آنے کی دوڑ میں لگی ہوئی ہیں جن افراد کا رنگ گورا گندمی ہوتا ہے انہیں گورا ہونے اور جو گورے ہیں انہیں گندمی ہونے کا شوق ہے اس دور میں لوگ بہت سی ایسی مہنگی کریمیں اور ماسک وغیرہ استعمال کرتے ہیں جن سے انہیں وقتی طور پر تو اپنے متعلقہ نتائج مل جاتے ہیں لیکن بعدازاں نقصان اٹھانا پڑتا ہے بہت سی لڑکیاں اسی کوشش میں اپنے چہرے کی پلاسٹک سرجری بھی کروا لیتی ہیں جس کے سنگین نتائج سے وہ آشنا ہوتی ہیں حال ہی میں رپورٹ کے مطابق ایک لڑکی نے پرکشش نظر آنے کی کوشش میں اپنی شکل کا حُلیہ خراب کر لیا ہے  لیکن اب پچھتائے کیا ہوت جب چڑیاں چگ گئیں کھیت دی مرر کے مطابق اس ماہر کا نام مکتیہے جو ایک نامیاتی سکن کیئر کمپنی کی مالک بھی ہے اس نے بتایا ہے کہ  گھریلو ٹوٹکوں سے رنگ گورا کرنا انتہائی آسان اور سستا طریقہ ہے جیسا کہ کریم میں گندم کا آٹا چاول کا آٹا سوڈا لیموں اوپٹن اور ہلدی کے استعمال سے آپ اپنا رنگ گورا کر سکتے ہیں اگر چند دن اس پر عمل کیا جائے تو آپ اپنی عمر سے کئی سال چھوٹے لگنے لگیں گے مکتی کا مزید کہنا تھا کہ چہرے پر پریشانی اور ذہنی دباﺅ کے آثار ہی ہمیں عمرسے زیادہ بڑا بنا دیتے ہیں اس لیے گھریلو ٹوٹکوں کا زیادہ  استعمال آپ کے چہرے پر موجود چھائیاں جلد اور لمبے عرصے کے لیے نہ صرف ختم کرے گا بلکہ چہرے پر ایک نئی رونق بھی لے آئے گا'"
      ]
     },
     "execution_count": 20,
     "metadata": {},
     "output_type": "execute_result"
    }
   ],
   "source": [
    "train_sentences[5]"
   ]
  },
  {
   "cell_type": "code",
   "execution_count": 21,
   "metadata": {},
   "outputs": [],
   "source": [
    "#tokenized_train_sentences[5]"
   ]
  },
  {
   "cell_type": "code",
   "execution_count": 22,
   "metadata": {},
   "outputs": [],
   "source": [
    "train_padding = pad_sequences(tokenized_train_sentences, max_len)\n",
    "test_padding = pad_sequences(tokenized_test_sentences, max_len)\n",
    "fire_padding = pad_sequences(tokenized_fire_sentences, max_len)"
   ]
  },
  {
   "cell_type": "code",
   "execution_count": 23,
   "metadata": {},
   "outputs": [],
   "source": [
    "embed_dim = 32  # Embedding size for each token\n",
    "num_heads = 2  # Number of attention heads\n",
    "ff_dim = 32  # Hidden layer size in feed forward network inside transformer\n",
    "vocab_size = 10000\n",
    "inputs = layers.Input(shape=(max_len,))\n",
    "embedding_layer = TokenAndPositionEmbedding(max_len, vocab_size, embed_dim)\n",
    "x = embedding_layer(inputs)\n",
    "transformer_block = TransformerBlock(embed_dim, num_heads, ff_dim)\n",
    "x = transformer_block(x)\n",
    "x = layers.GlobalAveragePooling1D()(x)\n",
    "x = layers.Dropout(0.1)(x)\n",
    "x = layers.Dense(20, activation=\"relu\")(x)\n",
    "x = layers.Dropout(0.1)(x)\n",
    "outputs = layers.Dense(1, activation=\"sigmoid\")(x)\n",
    "\n",
    "model = keras.Model(inputs=inputs, outputs=outputs)"
   ]
  },
  {
   "cell_type": "code",
   "execution_count": 24,
   "metadata": {},
   "outputs": [],
   "source": [
    "model.compile(loss='binary_crossentropy', optimizer='adam', metrics=['accuracy'])"
   ]
  },
  {
   "cell_type": "code",
   "execution_count": 25,
   "metadata": {},
   "outputs": [],
   "source": [
    "#saved_model = \"weights_base.best.hdf5\"\n",
    "#saved_model = \"transformer_test.hdf5\"\n",
    "#checkpoint = ModelCheckpoint(saved_model, monitor='val_accuracy', verbose=1, save_best_only=True, mode='max')\n",
    "#early = EarlyStopping(monitor=\"val_accuracy\", mode=\"max\", patience=5)\n",
    "#callbacks_list = [checkpoint, early]"
   ]
  },
  {
   "cell_type": "code",
   "execution_count": 26,
   "metadata": {
    "scrolled": false
   },
   "outputs": [
    {
     "name": "stdout",
     "output_type": "stream",
     "text": [
      "Epoch 1/25\n",
      "26/26 [==============================] - 2s 77ms/step - loss: 1.0998 - accuracy: 0.5157 - val_loss: 0.6983 - val_accuracy: 0.5191\n",
      "Epoch 2/25\n",
      "26/26 [==============================] - 2s 65ms/step - loss: 0.7260 - accuracy: 0.5596 - val_loss: 0.6987 - val_accuracy: 0.5687\n",
      "Epoch 3/25\n",
      "26/26 [==============================] - 2s 66ms/step - loss: 0.6150 - accuracy: 0.6771 - val_loss: 0.6854 - val_accuracy: 0.5458\n",
      "Epoch 4/25\n",
      "26/26 [==============================] - 2s 67ms/step - loss: 0.5519 - accuracy: 0.7132 - val_loss: 0.6833 - val_accuracy: 0.5725\n",
      "Epoch 5/25\n",
      "26/26 [==============================] - 2s 64ms/step - loss: 0.4563 - accuracy: 0.7994 - val_loss: 0.6848 - val_accuracy: 0.5611\n",
      "Epoch 6/25\n",
      "26/26 [==============================] - 2s 66ms/step - loss: 0.3691 - accuracy: 0.8464 - val_loss: 0.7149 - val_accuracy: 0.5305\n",
      "Epoch 7/25\n",
      "26/26 [==============================] - 2s 70ms/step - loss: 0.2829 - accuracy: 0.8966 - val_loss: 0.6959 - val_accuracy: 0.5725\n",
      "Epoch 8/25\n",
      "26/26 [==============================] - 2s 77ms/step - loss: 0.2183 - accuracy: 0.9295 - val_loss: 0.6845 - val_accuracy: 0.5687\n",
      "Epoch 9/25\n",
      "26/26 [==============================] - 2s 80ms/step - loss: 0.1697 - accuracy: 0.9498 - val_loss: 0.6824 - val_accuracy: 0.5992\n",
      "Epoch 10/25\n",
      "26/26 [==============================] - 2s 75ms/step - loss: 0.1335 - accuracy: 0.9734 - val_loss: 0.6696 - val_accuracy: 0.6031\n",
      "Epoch 11/25\n",
      "26/26 [==============================] - 2s 67ms/step - loss: 0.1053 - accuracy: 0.9702 - val_loss: 0.6888 - val_accuracy: 0.6221\n",
      "Epoch 12/25\n",
      "26/26 [==============================] - 2s 67ms/step - loss: 0.0741 - accuracy: 0.9906 - val_loss: 0.7342 - val_accuracy: 0.6183\n",
      "Epoch 13/25\n",
      "26/26 [==============================] - 2s 65ms/step - loss: 0.0663 - accuracy: 0.9875 - val_loss: 0.7088 - val_accuracy: 0.6336\n",
      "Epoch 14/25\n",
      "26/26 [==============================] - 2s 71ms/step - loss: 0.0650 - accuracy: 0.9828 - val_loss: 0.6902 - val_accuracy: 0.6145\n",
      "Epoch 15/25\n",
      "26/26 [==============================] - 2s 72ms/step - loss: 0.0453 - accuracy: 0.9922 - val_loss: 0.7084 - val_accuracy: 0.6298\n",
      "Epoch 16/25\n",
      "26/26 [==============================] - 2s 76ms/step - loss: 0.0440 - accuracy: 0.9859 - val_loss: 0.7126 - val_accuracy: 0.6107\n",
      "Epoch 17/25\n",
      "26/26 [==============================] - 2s 77ms/step - loss: 0.0348 - accuracy: 0.9953 - val_loss: 0.7193 - val_accuracy: 0.6412\n",
      "Epoch 18/25\n",
      "26/26 [==============================] - 2s 81ms/step - loss: 0.0300 - accuracy: 0.9937 - val_loss: 0.7574 - val_accuracy: 0.6527\n",
      "Epoch 19/25\n",
      "26/26 [==============================] - 2s 77ms/step - loss: 0.0318 - accuracy: 0.9890 - val_loss: 0.7105 - val_accuracy: 0.6718\n",
      "Epoch 20/25\n",
      "26/26 [==============================] - 2s 74ms/step - loss: 0.0244 - accuracy: 0.9937 - val_loss: 0.8292 - val_accuracy: 0.6603\n",
      "Epoch 21/25\n",
      "26/26 [==============================] - 2s 80ms/step - loss: 0.0276 - accuracy: 0.9906 - val_loss: 0.7274 - val_accuracy: 0.6679\n",
      "Epoch 22/25\n",
      "26/26 [==============================] - 2s 76ms/step - loss: 0.0188 - accuracy: 0.9953 - val_loss: 0.6991 - val_accuracy: 0.6565\n",
      "Epoch 23/25\n",
      "26/26 [==============================] - 2s 74ms/step - loss: 0.0212 - accuracy: 0.9969 - val_loss: 0.7031 - val_accuracy: 0.6489\n",
      "Epoch 24/25\n",
      "26/26 [==============================] - 2s 80ms/step - loss: 0.0229 - accuracy: 0.9937 - val_loss: 0.8444 - val_accuracy: 0.6641\n",
      "Epoch 25/25\n",
      "26/26 [==============================] - 2s 81ms/step - loss: 0.0232 - accuracy: 0.9937 - val_loss: 0.7385 - val_accuracy: 0.6832\n"
     ]
    }
   ],
   "source": [
    "batch_sz = 25\n",
    "epoch = 25\n",
    "#model.fit(train_padding, y, batch_size=batch_sz, epochs=epoch, validation_split=0.1, callbacks=callbacks_list)\n",
    "#callbacks=callbacks_list\n",
    "history = model.fit(train_padding, y, batch_size=batch_sz, epochs=epoch, validation_data=(test_padding, y_val))"
   ]
  },
  {
   "cell_type": "code",
   "execution_count": 27,
   "metadata": {},
   "outputs": [
    {
     "name": "stdout",
     "output_type": "stream",
     "text": [
      "16/16 [==============================] - 0s 22ms/step\n"
     ]
    }
   ],
   "source": [
    "#from tensorflow.keras.models import load_model\n",
    "\n",
    "#weights = load_model('transformer_test.hdf5').get_weights()\n",
    "#model.set_weights(weights)\n",
    "test_values = model.predict([fire_padding], batch_size=25, verbose=1)\n"
   ]
  },
  {
   "cell_type": "code",
   "execution_count": 28,
   "metadata": {},
   "outputs": [
    {
     "name": "stdout",
     "output_type": "stream",
     "text": [
      "[1, 1, 0, 1, 0, 0, 0, 0, 0, 1, 0, 0, 0, 0, 0, 0, 0, 0, 0, 0, 0, 0, 1, 1, 0, 0, 0, 0, 0, 1, 0, 0, 0, 0, 1, 0, 0, 0, 1, 0, 1, 0, 0, 0, 0, 1, 0, 0, 0, 0, 1, 1, 0, 0, 0, 0, 0, 1, 1, 1, 1, 1, 0, 0, 0, 0, 0, 1, 0, 1, 1, 0, 1, 1, 1, 1, 0, 0, 0, 1, 1, 1, 0, 0, 0, 0, 0, 0, 0, 0, 0, 0, 0, 0, 0, 0, 0, 0, 0, 0, 0, 0, 1, 1, 0, 1, 0, 0, 0, 0, 0, 0, 0, 0, 0, 1, 1, 0, 0, 0, 0, 1, 0, 1, 1, 0, 0, 1, 1, 1, 0, 1, 0, 0, 0, 0, 0, 0, 0, 0, 0, 0, 0, 0, 0, 0, 0, 1, 0, 0, 1, 0, 1, 0, 0, 0, 0, 0, 0, 0, 1, 0, 0, 0, 0, 0, 0, 0, 0, 0, 0, 1, 0, 0, 0, 0, 1, 0, 0, 1, 0, 1, 0, 0, 0, 1, 0, 0, 0, 1, 0, 0, 0, 0, 0, 0, 0, 1, 0, 0, 0, 0, 0, 0, 0, 0, 0, 0, 0, 1, 0, 0, 0, 0, 0, 0, 1, 0, 0, 0, 0, 0, 1, 0, 0, 1, 0, 0, 0, 0, 1, 1, 1, 0, 1, 1, 1, 0, 0, 1, 1, 1, 1, 1, 0, 1, 0, 0, 0, 0, 0, 0, 1, 1, 0, 1, 1, 0, 1, 0, 0, 0, 0, 0, 0, 1, 0, 0, 0, 0, 0, 0, 0, 1, 0, 1, 1, 0, 1, 0, 0, 0, 0, 1, 0, 0, 0, 0, 1, 0, 0, 1, 0, 1, 0, 0, 1, 0, 1, 0, 0, 0, 0, 0, 0, 0, 0, 0, 0, 0, 0, 0, 0, 0, 0, 0, 0, 1, 0, 1, 0, 0, 0, 1, 0, 0, 1, 1, 1, 0, 0, 0, 0, 0, 0, 1, 1, 1, 0, 0, 0, 0, 0, 0, 0, 0, 0, 0, 1, 1, 0, 0, 0, 0, 0, 0, 0, 0, 0, 0, 1, 0, 0, 0, 0, 0, 0, 1, 0, 0, 0, 0, 0, 0, 0, 1, 1, 1, 0, 0, 0, 0, 1, 0, 0, 0, 0, 0, 0, 1, 0, 0, 0, 0, 1, 1, 0, 0, 0, 1]\n"
     ]
    }
   ],
   "source": [
    "test_labels = [1 if x >=0.5 else 0 for x in test_values]\n",
    "print(test_labels)"
   ]
  },
  {
   "cell_type": "code",
   "execution_count": 29,
   "metadata": {},
   "outputs": [],
   "source": [
    "import csv\n",
    "\n",
    "inputfile = open(\"clean_data/test.csv\",\"r\")\n",
    "csv_reader = csv.reader(inputfile)\n",
    "data_fire = list(csv_reader)\n",
    "\n",
    "csv_m1 = open(\"submissions/model4.csv\", \"w+\")\n",
    "writer = csv.writer(csv_m1, delimiter=\",\")\n",
    "\n",
    "writer.writerow([\"File No\", \"Real/Fake\"])\n",
    "for i in range(len(test_labels)):\n",
    "    \n",
    "    if test_labels[i] == 0:\n",
    "        writer.writerow([i+1, \"R\"])\n",
    "    elif test_labels[i] == 1:\n",
    "        writer.writerow([i+1, \"F\"])\n",
    "    else:\n",
    "        #pass\n",
    "        print(\"error: \", i)\n",
    "        \n",
    "#outfile.close()\n",
    "csv_m1.close()"
   ]
  },
  {
   "cell_type": "code",
   "execution_count": null,
   "metadata": {},
   "outputs": [],
   "source": []
  },
  {
   "cell_type": "code",
   "execution_count": 30,
   "metadata": {},
   "outputs": [],
   "source": [
    "#from sklearn.metrics import classification_report\n",
    "#target_names = ['real', 'fake']\n",
    "#print(classification_report(y_val, test_values.round(), target_names=target_names))"
   ]
  },
  {
   "cell_type": "code",
   "execution_count": 31,
   "metadata": {},
   "outputs": [
    {
     "name": "stdout",
     "output_type": "stream",
     "text": [
      "[0.5190839767456055, 0.5687022805213928, 0.5458015203475952, 0.572519063949585, 0.5610687136650085, 0.5305343270301819, 0.572519063949585, 0.5687022805213928, 0.5992366671562195, 0.6030534505844116, 0.6221374273300171, 0.6183205842971802, 0.6335877776145935, 0.614503800868988, 0.6297709941864014, 0.6106870174407959, 0.6412213444709778, 0.652671754360199, 0.6717557311058044, 0.6603053212165833, 0.6679389476776123, 0.6564885377883911, 0.6488549709320068, 0.6641221642494202, 0.6832060813903809] [0.5156739950180054, 0.5595611333847046, 0.6771159768104553, 0.7131661176681519, 0.7993730306625366, 0.846394956111908, 0.8965517282485962, 0.9294670820236206, 0.9498432874679565, 0.9733542203903198, 0.9702194333076477, 0.9905956387519836, 0.9874607920646667, 0.982758641242981, 0.9921630024909973, 0.9858934283256531, 0.9952977895736694, 0.9937304258346558, 0.9890282154083252, 0.9937304258346558, 0.9905956387519836, 0.9952977895736694, 0.9968652129173279, 0.9937304258346558, 0.9937304258346558]\n"
     ]
    },
    {
     "data": {
      "text/plain": [
       "<Figure size 432x288 with 0 Axes>"
      ]
     },
     "execution_count": 31,
     "metadata": {},
     "output_type": "execute_result"
    },
    {
     "data": {
      "image/png": "[encoded data removed]",
      "text/plain": [
       "<Figure size 432x288 with 1 Axes>"
      ]
     },
     "metadata": {
      "needs_background": "light"
     },
     "output_type": "display_data"
    },
    {
     "data": {
      "image/png": "[encoded data removed]",
      "text/plain": [
       "<Figure size 432x288 with 1 Axes>"
      ]
     },
     "metadata": {
      "needs_background": "light"
     },
     "output_type": "display_data"
    },
    {
     "data": {
      "text/plain": [
       "<Figure size 432x288 with 0 Axes>"
      ]
     },
     "metadata": {},
     "output_type": "display_data"
    }
   ],
   "source": [
    "import matplotlib.pyplot as plt \n",
    "\n",
    "acc = history.history[\"accuracy\"]\n",
    "val_acc = history.history[\"val_accuracy\"]\n",
    "\n",
    "print(val_acc,acc)\n",
    "loss = history.history[\"loss\"]\n",
    "val_loss = history.history[\"val_loss\"]\n",
    "\n",
    "epochs = range(len(acc))\n",
    "\n",
    "plt.plot(epochs,acc)\n",
    "plt.plot(epochs,val_acc)\n",
    "plt.title(\"acc\")\n",
    "plt.figure()\n",
    "\n",
    "plt.plot(epochs,loss)\n",
    "plt.plot(epochs,val_loss)\n",
    "plt.title(\"loss\")\n",
    "plt.figure()\n"
   ]
  },
  {
   "cell_type": "code",
   "execution_count": null,
   "metadata": {},
   "outputs": [],
   "source": []
  },
  {
   "cell_type": "code",
   "execution_count": null,
   "metadata": {},
   "outputs": [],
   "source": []
  },
  {
   "cell_type": "code",
   "execution_count": null,
   "metadata": {},
   "outputs": [],
   "source": []
  }
 ],
 "metadata": {
  "kernelspec": {
   "display_name": "Python 3",
   "language": "python",
   "name": "python3"
  },
  "language_info": {
   "codemirror_mode": {
    "name": "ipython",
    "version": 3
   },
   "file_extension": ".py",
   "mimetype": "text/x-python",
   "name": "python",
   "nbconvert_exporter": "python",
   "pygments_lexer": "ipython3",
   "version": "3.6.9"
  }
 },
 "nbformat": 4,
 "nbformat_minor": 2
}
