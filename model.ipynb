{
 "cells": [
  {
   "cell_type": "code",
   "execution_count": 1,
   "metadata": {},
   "outputs": [],
   "source": [
    "import os\n",
    "import re\n",
    "import sys\n",
    "import numpy as np\n",
    "import pandas as pd\n",
    "\n",
    "import matplotlib.pyplot as plt\n",
    "%matplotlib inline\n",
    "from focal_loss import SparseCategoricalFocalLoss\n",
    "from tensorflow.keras.preprocessing.text import Tokenizer\n",
    "from tensorflow.keras.preprocessing.sequence import pad_sequences\n",
    "from tensorflow.keras.layers import RNN, GRU, LSTM, Dense, Input, Embedding, Dropout, Activation, concatenate\n",
    "from tensorflow.keras.layers import Bidirectional, GlobalAveragePooling1D, GlobalMaxPooling1D, dot, multiply\n",
    "from tensorflow.keras.models import Model\n",
    "from tensorflow.keras.callbacks import EarlyStopping, ModelCheckpoint\n",
    "from tensorflow.keras import initializers, regularizers, constraints, optimizers, layers"
   ]
  },
  {
   "cell_type": "code",
   "execution_count": 2,
   "metadata": {},
   "outputs": [],
   "source": [
    "train_data = pd.read_csv('clean_data/train.csv')\n",
    "test_data = pd.read_csv('clean_data/val.csv')\n",
    "fire_data = pd.read_csv('clean_data/test.csv')"
   ]
  },
  {
   "cell_type": "code",
   "execution_count": 3,
   "metadata": {},
   "outputs": [
    {
     "data": {
      "text/html": [
       "<div>\n",
       "<style scoped>\n",
       "    .dataframe tbody tr th:only-of-type {\n",
       "        vertical-align: middle;\n",
       "    }\n",
       "\n",
       "    .dataframe tbody tr th {\n",
       "        vertical-align: top;\n",
       "    }\n",
       "\n",
       "    .dataframe thead th {\n",
       "        text-align: right;\n",
       "    }\n",
       "</style>\n",
       "<table border=\"1\" class=\"dataframe\">\n",
       "  <thead>\n",
       "    <tr style=\"text-align: right;\">\n",
       "      <th></th>\n",
       "      <th>news_text</th>\n",
       "    </tr>\n",
       "  </thead>\n",
       "  <tbody>\n",
       "    <tr>\n",
       "      <td>count</td>\n",
       "      <td>400</td>\n",
       "    </tr>\n",
       "    <tr>\n",
       "      <td>unique</td>\n",
       "      <td>398</td>\n",
       "    </tr>\n",
       "    <tr>\n",
       "      <td>top</td>\n",
       "      <td>ناظرین جب تک پسند کریں گے کام کروں گی: سشمیتا...</td>\n",
       "    </tr>\n",
       "    <tr>\n",
       "      <td>freq</td>\n",
       "      <td>2</td>\n",
       "    </tr>\n",
       "  </tbody>\n",
       "</table>\n",
       "</div>"
      ],
      "text/plain": [
       "                                                news_text\n",
       "count                                                 400\n",
       "unique                                                398\n",
       "top      ناظرین جب تک پسند کریں گے کام کروں گی: سشمیتا...\n",
       "freq                                                    2"
      ]
     },
     "execution_count": 3,
     "metadata": {},
     "output_type": "execute_result"
    }
   ],
   "source": [
    "#train_data.describe()\n",
    "#test_data.describe()\n",
    "fire_data.describe()"
   ]
  },
  {
   "cell_type": "code",
   "execution_count": 4,
   "metadata": {},
   "outputs": [
    {
     "data": {
      "text/html": [
       "<div>\n",
       "<style scoped>\n",
       "    .dataframe tbody tr th:only-of-type {\n",
       "        vertical-align: middle;\n",
       "    }\n",
       "\n",
       "    .dataframe tbody tr th {\n",
       "        vertical-align: top;\n",
       "    }\n",
       "\n",
       "    .dataframe thead th {\n",
       "        text-align: right;\n",
       "    }\n",
       "</style>\n",
       "<table border=\"1\" class=\"dataframe\">\n",
       "  <thead>\n",
       "    <tr style=\"text-align: right;\">\n",
       "      <th></th>\n",
       "      <th>Unnamed: 0</th>\n",
       "      <th>news_text</th>\n",
       "      <th>label</th>\n",
       "    </tr>\n",
       "  </thead>\n",
       "  <tbody>\n",
       "    <tr>\n",
       "      <td>0</td>\n",
       "      <td>410</td>\n",
       "      <td>﻿آئن سٹائن کے اپنے ہاتھ کا وہ خط متوقع کے عين...</td>\n",
       "      <td>1</td>\n",
       "    </tr>\n",
       "    <tr>\n",
       "      <td>1</td>\n",
       "      <td>577</td>\n",
       "      <td>نئی دہلی 15 دسمبر(ایجنسی) بین الاقوامی سطح پ...</td>\n",
       "      <td>1</td>\n",
       "    </tr>\n",
       "    <tr>\n",
       "      <td>2</td>\n",
       "      <td>221</td>\n",
       "      <td>نئی دہلی 5 دسمبر(ایجنسی) دہلی کے تاج ہوٹل میں...</td>\n",
       "      <td>0</td>\n",
       "    </tr>\n",
       "    <tr>\n",
       "      <td>3</td>\n",
       "      <td>200</td>\n",
       "      <td>میلبرن (نیوز ڈیسک) کہتے ہیں کہ وزن ایک بار ب...</td>\n",
       "      <td>0</td>\n",
       "    </tr>\n",
       "    <tr>\n",
       "      <td>4</td>\n",
       "      <td>486</td>\n",
       "      <td>نیوزی لینڈ 10 مئی (ایجنسی) امریکہ میں ماہرین ...</td>\n",
       "      <td>1</td>\n",
       "    </tr>\n",
       "  </tbody>\n",
       "</table>\n",
       "</div>"
      ],
      "text/plain": [
       "   Unnamed: 0                                          news_text  label\n",
       "0         410   ﻿آئن سٹائن کے اپنے ہاتھ کا وہ خط متوقع کے عين...      1\n",
       "1         577    نئی دہلی 15 دسمبر(ایجنسی) بین الاقوامی سطح پ...      1\n",
       "2         221   نئی دہلی 5 دسمبر(ایجنسی) دہلی کے تاج ہوٹل میں...      0\n",
       "3         200    میلبرن (نیوز ڈیسک) کہتے ہیں کہ وزن ایک بار ب...      0\n",
       "4         486   نیوزی لینڈ 10 مئی (ایجنسی) امریکہ میں ماہرین ...      1"
      ]
     },
     "execution_count": 4,
     "metadata": {},
     "output_type": "execute_result"
    }
   ],
   "source": [
    "train_data.head()"
   ]
  },
  {
   "cell_type": "code",
   "execution_count": 5,
   "metadata": {},
   "outputs": [
    {
     "data": {
      "text/html": [
       "<div>\n",
       "<style scoped>\n",
       "    .dataframe tbody tr th:only-of-type {\n",
       "        vertical-align: middle;\n",
       "    }\n",
       "\n",
       "    .dataframe tbody tr th {\n",
       "        vertical-align: top;\n",
       "    }\n",
       "\n",
       "    .dataframe thead th {\n",
       "        text-align: right;\n",
       "    }\n",
       "</style>\n",
       "<table border=\"1\" class=\"dataframe\">\n",
       "  <thead>\n",
       "    <tr style=\"text-align: right;\">\n",
       "      <th></th>\n",
       "      <th>news_text</th>\n",
       "    </tr>\n",
       "  </thead>\n",
       "  <tbody>\n",
       "    <tr>\n",
       "      <td>0</td>\n",
       "      <td>چین کی جانب سے پاکستان کی مدد کرنے سے انکا...</td>\n",
       "    </tr>\n",
       "    <tr>\n",
       "      <td>1</td>\n",
       "      <td>چین کی جانب سے پاکستان کی مدد کرنے سے انکا...</td>\n",
       "    </tr>\n",
       "    <tr>\n",
       "      <td>2</td>\n",
       "      <td>مرغی اور انڈوں  کی قیمت میں مسلسل کمی کا اعلا...</td>\n",
       "    </tr>\n",
       "    <tr>\n",
       "      <td>3</td>\n",
       "      <td>2017 2018  کے مالی سال میں  تجارتی  خسارہ مزی...</td>\n",
       "    </tr>\n",
       "    <tr>\n",
       "      <td>4</td>\n",
       "      <td>سٹاک مارکیٹ میں کام کرنے والوں کےلئے بری خبر ...</td>\n",
       "    </tr>\n",
       "  </tbody>\n",
       "</table>\n",
       "</div>"
      ],
      "text/plain": [
       "                                           news_text\n",
       "0      چین کی جانب سے پاکستان کی مدد کرنے سے انکا...\n",
       "1      چین کی جانب سے پاکستان کی مدد کرنے سے انکا...\n",
       "2   مرغی اور انڈوں  کی قیمت میں مسلسل کمی کا اعلا...\n",
       "3   2017 2018  کے مالی سال میں  تجارتی  خسارہ مزی...\n",
       "4   سٹاک مارکیٹ میں کام کرنے والوں کےلئے بری خبر ..."
      ]
     },
     "execution_count": 5,
     "metadata": {},
     "output_type": "execute_result"
    }
   ],
   "source": [
    "fire_data.head()"
   ]
  },
  {
   "cell_type": "code",
   "execution_count": 6,
   "metadata": {},
   "outputs": [
    {
     "data": {
      "text/plain": [
       "news_text    False\n",
       "dtype: bool"
      ]
     },
     "execution_count": 6,
     "metadata": {},
     "output_type": "execute_result"
    }
   ],
   "source": [
    "fire_data.isnull().any()"
   ]
  },
  {
   "cell_type": "code",
   "execution_count": 7,
   "metadata": {},
   "outputs": [
    {
     "data": {
      "text/plain": [
       "Unnamed: 0    False\n",
       "news_text     False\n",
       "label         False\n",
       "dtype: bool"
      ]
     },
     "execution_count": 7,
     "metadata": {},
     "output_type": "execute_result"
    }
   ],
   "source": [
    "test_data.isnull().any()"
   ]
  },
  {
   "cell_type": "code",
   "execution_count": 8,
   "metadata": {},
   "outputs": [],
   "source": [
    "# Furhter actions on any columns is not required, because no columns has any missing data."
   ]
  },
  {
   "cell_type": "code",
   "execution_count": 9,
   "metadata": {},
   "outputs": [],
   "source": [
    "\n",
    "y = train_data[\"label\"].values\n",
    "\n",
    "y_val = test_data[\"label\"].values\n"
   ]
  },
  {
   "cell_type": "code",
   "execution_count": 10,
   "metadata": {},
   "outputs": [],
   "source": [
    "train_sentences = train_data[\"news_text\"].fillna(\"fillna\").str.lower()\n",
    "test_sentences = test_data[\"news_text\"].fillna(\"fillna\").str.lower()\n",
    "fire_sentences = fire_data[\"news_text\"].fillna(\"fillna\").str.lower()"
   ]
  },
  {
   "cell_type": "code",
   "execution_count": 11,
   "metadata": {},
   "outputs": [],
   "source": [
    "max_features = 10000\n",
    "max_len = 250\n",
    "embed_size = 300"
   ]
  },
  {
   "cell_type": "code",
   "execution_count": 12,
   "metadata": {},
   "outputs": [],
   "source": [
    "tokenizer = Tokenizer(max_features)\n",
    "tokenizer.fit_on_texts(list(train_sentences))"
   ]
  },
  {
   "cell_type": "code",
   "execution_count": 13,
   "metadata": {},
   "outputs": [],
   "source": [
    "tokenized_train_sentences = tokenizer.texts_to_sequences(train_sentences)\n",
    "tokenized_test_sentences = tokenizer.texts_to_sequences(test_sentences)\n",
    "tokenized_fire_sentences = tokenizer.texts_to_sequences(fire_sentences)"
   ]
  },
  {
   "cell_type": "code",
   "execution_count": 14,
   "metadata": {},
   "outputs": [
    {
     "data": {
      "text/plain": [
       "264"
      ]
     },
     "execution_count": 14,
     "metadata": {},
     "output_type": "execute_result"
    }
   ],
   "source": [
    "len(train_sentences[94].split(\" \"))"
   ]
  },
  {
   "cell_type": "code",
   "execution_count": 15,
   "metadata": {},
   "outputs": [],
   "source": [
    "#tokenized_train_sentences[1]"
   ]
  },
  {
   "cell_type": "code",
   "execution_count": 16,
   "metadata": {},
   "outputs": [
    {
     "data": {
      "text/plain": [
       "' لندن (ویب ڈیسک) آج کل کے دور میں ہر کوئی بالخصوص خواتین خوبصورت اور رنگ گورا کرنے سمیت کم عمر نظر آنے کی دوڑ میں لگی ہوئی ہیں جن افراد کا رنگ گورا گندمی ہوتا ہے انہیں گورا ہونے اور جو گورے ہیں انہیں گندمی ہونے کا شوق ہے اس دور میں لوگ بہت سی ایسی مہنگی کریمیں اور ماسک وغیرہ استعمال کرتے ہیں جن سے انہیں وقتی طور پر تو اپنے متعلقہ نتائج مل جاتے ہیں لیکن بعدازاں نقصان اٹھانا پڑتا ہے بہت سی لڑکیاں اسی کوشش میں اپنے چہرے کی پلاسٹک سرجری بھی کروا لیتی ہیں جس کے سنگین نتائج سے وہ آشنا ہوتی ہیں حال ہی میں رپورٹ کے مطابق ایک لڑکی نے پرکشش نظر آنے کی کوشش میں اپنی شکل کا حُلیہ خراب کر لیا ہے  لیکن اب پچھتائے کیا ہوت جب چڑیاں چگ گئیں کھیت دی مرر کے مطابق اس ماہر کا نام مکتیہے جو ایک نامیاتی سکن کیئر کمپنی کی مالک بھی ہے اس نے بتایا ہے کہ  گھریلو ٹوٹکوں سے رنگ گورا کرنا انتہائی آسان اور سستا طریقہ ہے جیسا کہ کریم میں گندم کا آٹا چاول کا آٹا سوڈا لیموں اوپٹن اور ہلدی کے استعمال سے آپ اپنا رنگ گورا کر سکتے ہیں اگر چند دن اس پر عمل کیا جائے تو آپ اپنی عمر سے کئی سال چھوٹے لگنے لگیں گے مکتی کا مزید کہنا تھا کہ چہرے پر پریشانی اور ذہنی دباﺅ کے آثار ہی ہمیں عمرسے زیادہ بڑا بنا دیتے ہیں اس لیے گھریلو ٹوٹکوں کا زیادہ  استعمال آپ کے چہرے پر موجود چھائیاں جلد اور لمبے عرصے کے لیے نہ صرف ختم کرے گا بلکہ چہرے پر ایک نئی رونق بھی لے آئے گا'"
      ]
     },
     "execution_count": 16,
     "metadata": {},
     "output_type": "execute_result"
    }
   ],
   "source": [
    "train_sentences[5]"
   ]
  },
  {
   "cell_type": "code",
   "execution_count": 17,
   "metadata": {},
   "outputs": [],
   "source": [
    "#tokenized_train_sentences[5]"
   ]
  },
  {
   "cell_type": "code",
   "execution_count": 18,
   "metadata": {},
   "outputs": [],
   "source": [
    "train_padding = pad_sequences(tokenized_train_sentences, max_len)\n",
    "test_padding = pad_sequences(tokenized_test_sentences, max_len)\n",
    "fire_padding = pad_sequences(tokenized_fire_sentences, max_len)"
   ]
  },
  {
   "cell_type": "code",
   "execution_count": 19,
   "metadata": {},
   "outputs": [
    {
     "name": "stdout",
     "output_type": "stream",
     "text": [
      "15299\n",
      "there are 5063 words not in model\n",
      "out of 15299 words\n"
     ]
    },
    {
     "name": "stderr",
     "output_type": "stream",
     "text": [
      "/home/reddy/.local/lib/python3.6/site-packages/ipykernel_launcher.py:15: DeprecationWarning: Call to deprecated `wv` (Attribute will be removed in 4.0.0, use self instead).\n",
      "  from ipykernel import kernelapp as app\n"
     ]
    }
   ],
   "source": [
    "import gensim\n",
    "from gensim.models import word2vec\n",
    "from gensim.models.fasttext import FastText\n",
    "\n",
    "word_index = tokenizer.word_index\n",
    "embedding_matrix = np.zeros((len(word_index)+1, 300))\n",
    "\n",
    "print(len(word_index))\n",
    "\n",
    "model = gensim.models.KeyedVectors.load_word2vec_format('urduvec_140M_100K_300d.bin', binary=True) #urduvec_140M_100K_300d.bin\n",
    "\n",
    "b = 0\n",
    "for word, i in word_index.items():\n",
    "    try:\n",
    "        embedding_matrix[i] = model.wv[word]\n",
    "    except KeyError:\n",
    "        embedding_matrix[i] = np.random.uniform(-0.25,0.25,300)\n",
    "        b = b + 1\n",
    "print('there are %d words not in model'%b)\n",
    "print('out of %d words'%i)\n",
    "\n"
   ]
  },
  {
   "cell_type": "code",
   "execution_count": 20,
   "metadata": {},
   "outputs": [],
   "source": [
    "image_input = Input(shape=(max_len, ))\n",
    "X = Embedding(len(word_index)+1, embed_size, weights=[embedding_matrix])(image_input)\n",
    "X = Bidirectional(GRU(64, return_sequences=True, dropout=0.2, recurrent_dropout=0.2))(X)\n",
    "# Dropout and R-Dropout sequence, inspired by Deep Learning with Python - Francois Chollet\n",
    "\n",
    "#X1 = bi_modal_attention(X, X)\n",
    "\n",
    "avg_pl = GlobalAveragePooling1D()(X)\n",
    "max_pl = GlobalMaxPooling1D()(X)\n",
    "\n",
    "conc = concatenate([avg_pl, max_pl])\n",
    "\n",
    "#o1 = dot([max_pl, avg_pl], axes=[1, 1])\n",
    "#a1 = multiply([o1, max_pl])\n",
    "\n",
    "X = Dense(1, activation=\"sigmoid\")(max_pl)\n",
    "model = Model(inputs=image_input, outputs=X)"
   ]
  },
  {
   "cell_type": "code",
   "execution_count": 21,
   "metadata": {},
   "outputs": [],
   "source": [
    "\n",
    "#odel.compile(loss=SparseCategoricalFocalLoss(gamma=2), optimizer='adam', metrics=['accuracy'])\n",
    "model.compile(loss='binary_crossentropy', optimizer='adam', metrics=['accuracy'])"
   ]
  },
  {
   "cell_type": "code",
   "execution_count": 22,
   "metadata": {},
   "outputs": [],
   "source": [
    "saved_model = \"model3.hdf5\"\n",
    "\n",
    "checkpoint = ModelCheckpoint(saved_model, monitor='val_accuracy', verbose=1, save_best_only=True, mode='max')\n",
    "early = EarlyStopping(monitor=\"val_accuracy\", mode=\"max\", patience=10)\n",
    "callbacks_list = [checkpoint, early]"
   ]
  },
  {
   "cell_type": "code",
   "execution_count": 23,
   "metadata": {
    "scrolled": false
   },
   "outputs": [
    {
     "name": "stdout",
     "output_type": "stream",
     "text": [
      "Epoch 1/25\n",
      "26/26 [==============================] - ETA: 0s - loss: 0.6954 - accuracy: 0.5345\n",
      "Epoch 00001: val_accuracy improved from -inf to 0.58779, saving model to model3.hdf5\n",
      "26/26 [==============================] - 16s 630ms/step - loss: 0.6954 - accuracy: 0.5345 - val_loss: 0.6707 - val_accuracy: 0.5878\n",
      "Epoch 2/25\n",
      "26/26 [==============================] - ETA: 0s - loss: 0.6648 - accuracy: 0.5878\n",
      "Epoch 00002: val_accuracy did not improve from 0.58779\n",
      "26/26 [==============================] - 23s 883ms/step - loss: 0.6648 - accuracy: 0.5878 - val_loss: 0.6745 - val_accuracy: 0.5649\n",
      "Epoch 3/25\n",
      "26/26 [==============================] - ETA: 0s - loss: 0.6256 - accuracy: 0.6834\n",
      "Epoch 00003: val_accuracy improved from 0.58779 to 0.68702, saving model to model3.hdf5\n",
      "26/26 [==============================] - 22s 836ms/step - loss: 0.6256 - accuracy: 0.6834 - val_loss: 0.6441 - val_accuracy: 0.6870\n",
      "Epoch 4/25\n",
      "26/26 [==============================] - ETA: 0s - loss: 0.5874 - accuracy: 0.7806\n",
      "Epoch 00004: val_accuracy did not improve from 0.68702\n",
      "26/26 [==============================] - 21s 819ms/step - loss: 0.5874 - accuracy: 0.7806 - val_loss: 0.6333 - val_accuracy: 0.6298\n",
      "Epoch 5/25\n",
      "26/26 [==============================] - ETA: 0s - loss: 0.5459 - accuracy: 0.8009\n",
      "Epoch 00005: val_accuracy did not improve from 0.68702\n",
      "26/26 [==============================] - 18s 685ms/step - loss: 0.5459 - accuracy: 0.8009 - val_loss: 0.6001 - val_accuracy: 0.6641\n",
      "Epoch 6/25\n",
      "26/26 [==============================] - ETA: 0s - loss: 0.4836 - accuracy: 0.8652\n",
      "Epoch 00006: val_accuracy improved from 0.68702 to 0.76336, saving model to model3.hdf5\n",
      "26/26 [==============================] - 18s 705ms/step - loss: 0.4836 - accuracy: 0.8652 - val_loss: 0.5475 - val_accuracy: 0.7634\n",
      "Epoch 7/25\n",
      "26/26 [==============================] - ETA: 0s - loss: 0.4347 - accuracy: 0.8871\n",
      "Epoch 00007: val_accuracy improved from 0.76336 to 0.78626, saving model to model3.hdf5\n",
      "26/26 [==============================] - 18s 699ms/step - loss: 0.4347 - accuracy: 0.8871 - val_loss: 0.5126 - val_accuracy: 0.7863\n",
      "Epoch 8/25\n",
      "26/26 [==============================] - ETA: 0s - loss: 0.3704 - accuracy: 0.9091\n",
      "Epoch 00008: val_accuracy did not improve from 0.78626\n",
      "26/26 [==============================] - 19s 740ms/step - loss: 0.3704 - accuracy: 0.9091 - val_loss: 0.5112 - val_accuracy: 0.7443\n",
      "Epoch 9/25\n",
      "26/26 [==============================] - ETA: 0s - loss: 0.3200 - accuracy: 0.9357\n",
      "Epoch 00009: val_accuracy did not improve from 0.78626\n",
      "26/26 [==============================] - 17s 661ms/step - loss: 0.3200 - accuracy: 0.9357 - val_loss: 0.4720 - val_accuracy: 0.7824\n",
      "Epoch 10/25\n",
      "26/26 [==============================] - ETA: 0s - loss: 0.2537 - accuracy: 0.9436\n",
      "Epoch 00010: val_accuracy improved from 0.78626 to 0.82824, saving model to model3.hdf5\n",
      "26/26 [==============================] - 19s 739ms/step - loss: 0.2537 - accuracy: 0.9436 - val_loss: 0.4373 - val_accuracy: 0.8282\n",
      "Epoch 11/25\n",
      "26/26 [==============================] - ETA: 0s - loss: 0.1843 - accuracy: 0.9718\n",
      "Epoch 00011: val_accuracy did not improve from 0.82824\n",
      "26/26 [==============================] - 18s 706ms/step - loss: 0.1843 - accuracy: 0.9718 - val_loss: 0.4574 - val_accuracy: 0.8092\n",
      "Epoch 12/25\n",
      "26/26 [==============================] - ETA: 0s - loss: 0.1569 - accuracy: 0.9671\n",
      "Epoch 00012: val_accuracy did not improve from 0.82824\n",
      "26/26 [==============================] - 17s 667ms/step - loss: 0.1569 - accuracy: 0.9671 - val_loss: 0.4612 - val_accuracy: 0.8130\n",
      "Epoch 13/25\n",
      "26/26 [==============================] - ETA: 0s - loss: 0.1000 - accuracy: 0.9843\n",
      "Epoch 00013: val_accuracy did not improve from 0.82824\n",
      "26/26 [==============================] - 14s 526ms/step - loss: 0.1000 - accuracy: 0.9843 - val_loss: 0.4277 - val_accuracy: 0.8282\n",
      "Epoch 14/25\n",
      "26/26 [==============================] - ETA: 0s - loss: 0.0784 - accuracy: 0.9812\n",
      "Epoch 00014: val_accuracy did not improve from 0.82824\n",
      "26/26 [==============================] - 14s 526ms/step - loss: 0.0784 - accuracy: 0.9812 - val_loss: 0.4667 - val_accuracy: 0.8130\n",
      "Epoch 15/25\n",
      "26/26 [==============================] - ETA: 0s - loss: 0.0439 - accuracy: 0.9922\n",
      "Epoch 00015: val_accuracy did not improve from 0.82824\n",
      "26/26 [==============================] - 14s 533ms/step - loss: 0.0439 - accuracy: 0.9922 - val_loss: 0.5179 - val_accuracy: 0.8053\n",
      "Epoch 16/25\n",
      "26/26 [==============================] - ETA: 0s - loss: 0.0322 - accuracy: 0.9922\n",
      "Epoch 00016: val_accuracy did not improve from 0.82824\n",
      "26/26 [==============================] - 15s 574ms/step - loss: 0.0322 - accuracy: 0.9922 - val_loss: 0.5998 - val_accuracy: 0.8130\n",
      "Epoch 17/25\n",
      "26/26 [==============================] - ETA: 0s - loss: 0.0276 - accuracy: 0.9906\n",
      "Epoch 00017: val_accuracy did not improve from 0.82824\n",
      "26/26 [==============================] - 18s 704ms/step - loss: 0.0276 - accuracy: 0.9906 - val_loss: 0.5917 - val_accuracy: 0.8015\n",
      "Epoch 18/25\n",
      "26/26 [==============================] - ETA: 0s - loss: 0.0383 - accuracy: 0.9890\n",
      "Epoch 00018: val_accuracy did not improve from 0.82824\n",
      "26/26 [==============================] - 15s 559ms/step - loss: 0.0383 - accuracy: 0.9890 - val_loss: 0.6320 - val_accuracy: 0.8015\n",
      "Epoch 19/25\n",
      "26/26 [==============================] - ETA: 0s - loss: 0.0181 - accuracy: 0.9984\n",
      "Epoch 00019: val_accuracy did not improve from 0.82824\n",
      "26/26 [==============================] - 14s 543ms/step - loss: 0.0181 - accuracy: 0.9984 - val_loss: 0.5869 - val_accuracy: 0.7977\n",
      "Epoch 20/25\n",
      "26/26 [==============================] - ETA: 0s - loss: 0.0098 - accuracy: 0.9984\n",
      "Epoch 00020: val_accuracy did not improve from 0.82824\n",
      "26/26 [==============================] - 14s 556ms/step - loss: 0.0098 - accuracy: 0.9984 - val_loss: 0.7458 - val_accuracy: 0.7824\n"
     ]
    }
   ],
   "source": [
    "batch_sz = 25\n",
    "epoch = 25\n",
    "#model.fit(train_padding, y, batch_size=batch_sz, epochs=epoch, validation_split=0.1, callbacks=callbacks_list)\n",
    "\n",
    "history = model.fit(train_padding, y, batch_size=batch_sz, epochs=epoch, callbacks=callbacks_list, validation_data=(test_padding, y_val))"
   ]
  },
  {
   "cell_type": "code",
   "execution_count": 24,
   "metadata": {},
   "outputs": [
    {
     "name": "stdout",
     "output_type": "stream",
     "text": [
      "16/16 [==============================] - 1s 47ms/step\n"
     ]
    }
   ],
   "source": [
    "from tensorflow.keras.models import load_model\n",
    "\n",
    "weights = load_model('model3.hdf5').get_weights()\n",
    "model.set_weights(weights)\n",
    "test_values = model.predict([fire_padding], batch_size=25, verbose=1)\n"
   ]
  },
  {
   "cell_type": "code",
   "execution_count": 25,
   "metadata": {},
   "outputs": [
    {
     "name": "stdout",
     "output_type": "stream",
     "text": [
      "[0, 0, 0, 0, 0, 0, 0, 0, 0, 1, 0, 0, 1, 0, 0, 0, 0, 0, 0, 0, 0, 0, 0, 0, 0, 0, 0, 0, 0, 0, 0, 1, 0, 0, 0, 0, 0, 0, 0, 0, 1, 0, 0, 0, 0, 0, 0, 0, 0, 0, 0, 0, 1, 0, 0, 0, 0, 0, 1, 0, 1, 0, 0, 0, 0, 0, 0, 0, 0, 0, 1, 0, 0, 0, 1, 1, 0, 0, 0, 1, 1, 0, 0, 0, 0, 0, 0, 0, 0, 0, 0, 0, 0, 0, 0, 0, 0, 0, 1, 0, 0, 0, 0, 0, 0, 0, 0, 1, 0, 0, 1, 0, 0, 0, 0, 0, 0, 0, 0, 0, 0, 0, 0, 0, 0, 0, 0, 0, 0, 0, 0, 1, 0, 0, 0, 0, 0, 0, 0, 0, 0, 0, 0, 0, 0, 0, 0, 0, 0, 0, 0, 1, 0, 0, 0, 0, 0, 0, 0, 0, 0, 0, 0, 0, 0, 0, 0, 0, 0, 0, 0, 0, 0, 0, 0, 0, 0, 0, 0, 0, 0, 0, 0, 0, 0, 0, 0, 0, 0, 0, 0, 0, 0, 0, 0, 0, 0, 1, 0, 0, 0, 0, 0, 0, 0, 0, 0, 0, 0, 0, 0, 0, 0, 0, 0, 0, 0, 0, 1, 0, 0, 0, 0, 0, 0, 0, 0, 0, 0, 0, 1, 0, 1, 0, 1, 1, 0, 0, 0, 0, 0, 0, 1, 0, 0, 0, 0, 0, 0, 0, 0, 1, 0, 0, 0, 0, 0, 0, 1, 0, 0, 0, 0, 0, 0, 0, 0, 0, 0, 0, 0, 0, 0, 0, 0, 0, 0, 0, 0, 0, 0, 0, 0, 1, 0, 0, 0, 0, 0, 0, 0, 0, 1, 0, 0, 0, 0, 0, 0, 0, 0, 0, 0, 0, 0, 0, 0, 0, 0, 0, 0, 0, 0, 0, 0, 0, 0, 0, 0, 0, 0, 0, 0, 0, 0, 0, 0, 0, 0, 0, 0, 0, 0, 0, 0, 0, 0, 0, 0, 0, 0, 0, 0, 0, 0, 0, 0, 0, 0, 0, 0, 0, 0, 0, 0, 0, 0, 0, 0, 0, 0, 0, 0, 0, 0, 0, 0, 0, 0, 0, 0, 0, 1, 0, 0, 0, 0, 0, 0, 0, 0, 0, 0, 0, 0, 0, 0, 0, 0, 0, 0, 0, 0, 0, 0, 0, 0, 0, 0, 0]\n"
     ]
    },
    {
     "data": {
      "text/plain": [
       "400"
      ]
     },
     "execution_count": 25,
     "metadata": {},
     "output_type": "execute_result"
    }
   ],
   "source": [
    "test_labels = [1 if x >=0.5 else 0 for x in test_values]\n",
    "print(test_labels)\n",
    "len(test_labels)"
   ]
  },
  {
   "cell_type": "code",
   "execution_count": 26,
   "metadata": {},
   "outputs": [],
   "source": [
    "import csv\n",
    "\n",
    "inputfile = open(\"clean_data/test.csv\",\"r\")\n",
    "csv_reader = csv.reader(inputfile)\n",
    "data_fire = list(csv_reader)\n",
    "\n",
    "csv_m1 = open(\"submissions/model3.csv\", \"w+\")\n",
    "writer = csv.writer(csv_m1, delimiter=\",\")\n",
    "\n",
    "writer.writerow([\"File No\", \"Real/Fake\"])\n",
    "for i in range(len(test_labels)):\n",
    "    \n",
    "    if test_labels[i] == 0:\n",
    "        writer.writerow([i+1, \"R\"])\n",
    "    elif test_labels[i] == 1:\n",
    "        writer.writerow([i+1, \"F\"])\n",
    "    else:\n",
    "        #pass\n",
    "        print(\"error: \", i)\n",
    "        \n",
    "#outfile.close()\n",
    "csv_m1.close()"
   ]
  },
  {
   "cell_type": "code",
   "execution_count": 27,
   "metadata": {},
   "outputs": [],
   "source": [
    "#from sklearn.metrics import classification_report\n",
    "#target_names = ['real', 'fake']\n",
    "#print(classification_report(y_val, test_values.round(), target_names=target_names))"
   ]
  },
  {
   "cell_type": "code",
   "execution_count": 28,
   "metadata": {},
   "outputs": [
    {
     "name": "stdout",
     "output_type": "stream",
     "text": [
      "[0.5877862572669983, 0.5648854970932007, 0.6870229244232178, 0.6297709941864014, 0.6641221642494202, 0.7633587718009949, 0.7862595319747925, 0.7442747950553894, 0.7824427485466003, 0.8282442688941956, 0.8091602921485901, 0.8129770755767822, 0.8282442688941956, 0.8129770755767822, 0.805343508720398, 0.8129770755767822, 0.8015267252922058, 0.8015267252922058, 0.7977099418640137, 0.7824427485466003] [0.5344827771186829, 0.5877742767333984, 0.6833855509757996, 0.7805642485618591, 0.8009404540061951, 0.8652037382125854, 0.8871473073959351, 0.9090909361839294, 0.9357366561889648, 0.9435736536979675, 0.9717868566513062, 0.9670846462249756, 0.9843260049819946, 0.9811912178993225, 0.9921630024909973, 0.9921630024909973, 0.9905956387519836, 0.9890282154083252, 0.9984325766563416, 0.9984325766563416]\n"
     ]
    },
    {
     "data": {
      "text/plain": [
       "Text(0.5, 1.0, 'loss')"
      ]
     },
     "execution_count": 28,
     "metadata": {},
     "output_type": "execute_result"
    },
    {
     "data": {
      "image/png": "[encoded data removed]",
      "text/plain": [
       "<Figure size 432x288 with 1 Axes>"
      ]
     },
     "metadata": {
      "needs_background": "light"
     },
     "output_type": "display_data"
    }
   ],
   "source": [
    "import matplotlib.pyplot as plt \n",
    "\n",
    "acc = history.history[\"accuracy\"]\n",
    "val_acc = history.history[\"val_accuracy\"]\n",
    "\n",
    "print(val_acc,acc)\n",
    "loss = history.history[\"loss\"]\n",
    "val_loss = history.history[\"val_loss\"]\n",
    "\n",
    "epochs = range(len(acc))\n",
    "\n",
    "plt.plot(epochs,acc)\n",
    "plt.plot(epochs,val_acc)\n",
    "plt.title(\"accuracy\")\n",
    "\n",
    "\n",
    "plt.plot(epochs,loss)\n",
    "plt.plot(epochs,val_loss)\n",
    "plt.title(\"loss\")\n",
    "\n",
    "\n"
   ]
  },
  {
   "cell_type": "code",
   "execution_count": null,
   "metadata": {},
   "outputs": [],
   "source": []
  }
 ],
 "metadata": {
  "kernelspec": {
   "display_name": "Python 3",
   "language": "python",
   "name": "python3"
  },
  "language_info": {
   "codemirror_mode": {
    "name": "ipython",
    "version": 3
   },
   "file_extension": ".py",
   "mimetype": "text/x-python",
   "name": "python",
   "nbconvert_exporter": "python",
   "pygments_lexer": "ipython3",
   "version": "3.6.9"
  }
 },
 "nbformat": 4,
 "nbformat_minor": 2
}
